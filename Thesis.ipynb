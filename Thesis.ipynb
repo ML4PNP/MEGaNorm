{
 "cells": [
  {
   "cell_type": "markdown",
   "metadata": {},
   "source": [
    "# Initialize data, load packages and needed modules"
   ]
  },
  {
   "cell_type": "code",
   "execution_count": null,
   "metadata": {},
   "outputs": [],
   "source": [
    "random_seeds = [42, 100, 0, 10, 12, 20, 50, 9, 30, 51]\n",
    "run = 0"
   ]
  },
  {
   "cell_type": "code",
   "execution_count": null,
   "metadata": {},
   "outputs": [],
   "source": [
    "username = 'meganorm-yverduyn'\n",
    "datasets = {\n",
    "    'TDBrain': {''\n",
    "        'base_dir': '/project/meganorm/Data/EEG_TDBrain/EEG/', #Final\n",
    "        #'base_dir': '/home/meganorm-yverduyn/Dev/BIDS_TDBrain',  #To test \n",
    "        'task': 'task-restEC', \n",
    "        'ending': 'eeg.vhdr'\n",
    "    },\n",
    "\n",
    "    'MIPDB': {\n",
    "        'base_dir': '/project/meganorm/Data/EEG_MIPDB/EEG_BIDS/', #Final\n",
    "        #'base_dir': '/home/meganorm-yverduyn/Dev/MIPDB/EEG_BIDS',  #To test \n",
    "        'task': 'task-eyesclosed', \n",
    "        'ending': 'eeg.set'\n",
    "},\n",
    "\n",
    "    'CMI': {\n",
    "        'base_dir': '/project/meganorm/Data/EEG_CMI/EEG_BIDS', #Final\n",
    "        #'base_dir': '/home/meganorm-yverduyn/Dev/BIDS_CMI',  #To test \n",
    "        'task': 'task-eyesclosed', \n",
    "        'ending': 'eeg.set'\n",
    "    }\n",
    "    }\n",
    "\n",
    "package_path = f'/home/{username}/Code/MEGaNorm/'"
   ]
  },
  {
   "cell_type": "code",
   "execution_count": null,
   "metadata": {},
   "outputs": [],
   "source": [
    "import os\n",
    "os.chdir(package_path)\n",
    "from utils.parallel import submit_jobs, check_jobs_status, collect_results\n",
    "from utils.nm import hbr_data_split, estimate_centiles, abnormal_probability, prepare_prediction_data, aggregate_metrics_across_runs, cal_stats_for_gauge\n",
    "from plots.plots import plot_nm_range_site2, plot_age_dist2, box_plot_auc, plot_metrics, z_scores_scatter_plot_continuum, plot_quantile_gauge\n",
    "from utils.IO import merge_fidp_demo, merge_datasets_with_glob\n",
    "from datasets.mne_bids_conversion import make_demo_file_bids\n",
    "import pandas as pd\n",
    "import json\n",
    "from pcntoolkit.normative_parallel import execute_nm\n",
    "import warnings\n",
    "import numpy as np\n",
    "from pcntoolkit.util.utils import z_to_abnormal_p, anomaly_detection_auc\n",
    "import pickle \n",
    "warnings.filterwarnings(\"ignore\")"
   ]
  },
  {
   "cell_type": "markdown",
   "metadata": {},
   "source": [
    "# Create configuration file"
   ]
  },
  {
   "cell_type": "code",
   "execution_count": null,
   "metadata": {},
   "outputs": [],
   "source": [
    "def make_config(project, path=None):\n",
    "\n",
    "    # preprocess configurations =================================================\n",
    "    # downsample data\n",
    "    config = dict()\n",
    "\n",
    "    # You could also set layout to None to have high \n",
    "    # choices: all, lobe, None\n",
    "    config[\"which_layout\"] = \"all\"\n",
    "\n",
    "    # which sensor type should be used\n",
    "    # choices: meg, mag, grad, eeg, opm\n",
    "    config[\"which_sensor\"] = \"eeg\"\n",
    "    # config['fs'] = 500\n",
    "\n",
    "    # ICA configuration\n",
    "    config['ica_n_component'] = 25\n",
    "    config['ica_max_iter'] = 800\n",
    "    config['ica_method'] = \"infomax\" \n",
    "\n",
    "    # lower and upper cutoff frequencies in a bandpass filter\n",
    "    config['cutoffFreqLow'] = 1\n",
    "    config['cutoffFreqHigh'] = 45\n",
    "\n",
    "    config[\"resampling_rate\"] = 1000\n",
    "    config[\"digital_filter\"] = True\n",
    "    config[\"notch_filter\"] = False\n",
    "\n",
    "    config[\"apply_ica\"] = True\n",
    "\n",
    "    config[\"auto_ica_corr_thr\"] = 0.8\n",
    "\n",
    "    config[\"rereference_method\"]= \"average\"\n",
    "    \n",
    "    # variance threshold across time\n",
    "    config[\"mag_var_threshold\"] = 4e-12\n",
    "    config[\"grad_var_threshold\"] = 4000e-13\n",
    "    config[\"eeg_var_threshold\"] = 40e-6  \n",
    "    # flatness threshold across time\n",
    "    config[\"mag_flat_threshold\"] = 10e-15\n",
    "    config[\"grad_flat_threshold\"] = 10e-15\n",
    "    config[\"eeg_flat_threshold\"] = 10e-6 \n",
    "\n",
    "    # segmentation ==============================================\n",
    "    #start time of the raw data to use in seconds, this is to avoid possible eye blinks in close-eyed resting state. \n",
    "    config['segments_tmin'] = 5\n",
    "    # end time of the raw data to use in seconds, this is to avoid possible eye blinks in close-eyed resting state.\n",
    "    config['segments_tmax'] = -5\n",
    "    # length of EEG segments in seconds\n",
    "    config['segments_length'] = 10\n",
    "    # amount of overlap between EEG sigals in seconds\n",
    "    config['segments_overlap'] = 2\n",
    "\n",
    "    # PSD ==============================================\n",
    "    # Spectral estimation method\n",
    "    config['psd_method'] = \"welch\"\n",
    "    # amount of overlap between windows in Welch's method\n",
    "    config['psd_n_overlap'] = 1\n",
    "    config['psd_n_fft'] = 2\n",
    "    # number of samples in psd\n",
    "    config[\"psd_n_per_seg\"] = 2\n",
    "\n",
    "    # fooof analysis configurations ==============================================\n",
    "    # Desired frequency range to run FOOOF\n",
    "    config['fooof_freqRangeLow'] = 3\n",
    "    config['fooof_freqRangeHigh'] = 40\n",
    "    # which mode should be used for fitting; choices (knee, fixed)\n",
    "    config[\"aperiodic_mode\"] = \"knee\"\n",
    "    # minimum acceptable peak width in fooof analysis\n",
    "    config[\"fooof_peak_width_limits\"] = [1.0, 12.0]\n",
    "    #Absolute threshold for detecting peaks\n",
    "    config['fooof_min_peak_height'] = 0\n",
    "    #Relative threshold for detecting peaks\n",
    "    config['fooof_peak_threshold'] = 2\n",
    "\n",
    "    # feature extraction ==========================================================\n",
    "    # Define frequency bands\n",
    "    config['freq_bands'] = {\n",
    "                            'Theta': (3, 8),\n",
    "                            'Alpha': (8, 13),\n",
    "                            'Beta': (13, 30),\n",
    "                            'Gamma': (30, 40),\n",
    "                            # 'Broadband': (3, 40)\n",
    "                            }\n",
    "\n",
    "    # Define individualized frequency range over main peaks in each freq band\n",
    "    config['individualized_band_ranges'] = { \n",
    "                                            'Theta': (-2, 3),\n",
    "                                            'Alpha': (-2, 3), # change to (-4,2)\n",
    "                                            'Beta': (-8, 9),\n",
    "                                            'Gamma': (-5, 5)\n",
    "                                            }\n",
    "\n",
    "    # least acceptable R squred of fitted models\n",
    "    config['min_r_squared'] = 0.9 \n",
    " \n",
    "    config['feature_categories'] = {\n",
    "                                    \"Offset\":False,\n",
    "                                    \"Exponent\":False,\n",
    "                                    \"Peak_Center\":False,\n",
    "                                    \"Peak_Power\":False,\n",
    "                                    \"Peak_Width\":False,\n",
    "                                    \"Adjusted_Canonical_Relative_Power\":True, \n",
    "                                    \"Adjusted_Canonical_Absolute_Power\":False,\n",
    "                                    \"Adjusted_Individualized_Relative_Power\":False,\n",
    "                                    \"Adjusted_Individualized_Absolute_Power\":False,\n",
    "                                    \"OriginalPSD_Canonical_Relative_Power\":False, \n",
    "                                    \"OriginalPSD_Canonical_Absolute_Power\":False,\n",
    "                                    \"OriginalPSD_Individualized_Relative_Power\":False,\n",
    "                                    \"OriginalPSD_Individualized_Absolute_Power\":False,\n",
    "                                    }\n",
    "    \n",
    "    config[\"fooof_res_save_path\"] = None\n",
    "\n",
    "    config[\"random_state\"] = 97#change? \n",
    "\n",
    "    if path is not None:\n",
    "        out_file = open(os.path.join(path, project + \".json\"), \"w\") \n",
    "        json.dump(config, out_file, indent = 6) \n",
    "        out_file.close()\n",
    "\n",
    "    return config"
   ]
  },
  {
   "cell_type": "markdown",
   "metadata": {},
   "source": [
    "# Define directories and job specifications needed for feature extraction and NM, merge datasets"
   ]
  },
  {
   "cell_type": "code",
   "execution_count": null,
   "metadata": {},
   "outputs": [],
   "source": [
    "project = \"Thesis_all_diagnosis\n",
    "\n",
    "project_dir = f'/home/{username}/Results/{project}/'\n",
    "\n",
    "mainParallel_path = os.path.join(package_path, 'src', 'mainParallel.py')\n",
    "\n",
    "features_dir = os.path.join(project_dir, 'Features')\n",
    "features_log_path = os.path.join(features_dir, 'log')\n",
    "features_temp_path = os.path.join(features_dir,'temp')\n",
    "pics_dir = os.path.join(project_dir, \"pics\")\n",
    "\n",
    "nm_processing_dir = os.path.join(project_dir, 'NM', 'Run_' + str(run))\n",
    "\n",
    "job_configs = {'log_path':features_log_path, 'module':'mne', 'time':'1:00:00', 'memory':'20GB', \n",
    "                'partition':'normal', 'core':1, 'node':1, 'batch_file_name':'batch_job'}\n",
    "\n",
    "if not os.path.isdir(features_log_path):\n",
    "    os.makedirs(features_log_path)\n",
    "\n",
    "if not os.path.isdir(features_temp_path):\n",
    "    os.makedirs(features_temp_path)\n",
    "    \n",
    "if not os.path.isdir(nm_processing_dir):\n",
    "    os.makedirs(nm_processing_dir)\n",
    "\n",
    "if not os.path.isdir(pics_dir):\n",
    "    os.makedirs(pics_dir)\n",
    "    \n",
    "configs = make_config(project, project_dir)\n",
    "\n",
    "subjects = merge_datasets_with_glob(datasets)\n"
   ]
  },
  {
   "cell_type": "markdown",
   "metadata": {},
   "source": [
    "# f-IDPs Extraction"
   ]
  },
  {
   "cell_type": "code",
   "execution_count": null,
   "metadata": {},
   "outputs": [],
   "source": [
    "### Parallel feature extraction  \n",
    "\n",
    "# # Running Jobs\n",
    "start_time = submit_jobs(mainParallel_path, features_dir, subjects, \n",
    "                features_temp_path, job_configs=job_configs, config_file=os.path.join(project_dir, project+'.json'))\n",
    "# Checking jobs\n",
    "failed_jobs = check_jobs_status(username, start_time)\n",
    "\n",
    "falied_subjects = {failed_job:subjects[failed_job] for failed_job in failed_jobs}\n",
    "\n",
    "while len(failed_jobs)>0:\n",
    "    # Re-running Jobs\n",
    "    start_time = submit_jobs(mainParallel_path, features_dir, falied_subjects, \n",
    "                features_temp_path, job_configs=job_configs, config_file=os.path.join(project_dir, project+'.json'))\n",
    "    # Checking jobs\n",
    "    failed_jobs = check_jobs_status(username, start_time)"
   ]
  },
  {
   "cell_type": "code",
   "execution_count": null,
   "metadata": {},
   "outputs": [],
   "source": [
    "collect_results(features_dir, subjects, features_temp_path, file_name='all_features')"
   ]
  },
  {
   "cell_type": "markdown",
   "metadata": {},
   "source": [
    "# Create covariate files, merge covariates and features"
   ]
  },
  {
   "cell_type": "code",
   "execution_count": null,
   "metadata": {},
   "outputs": [],
   "source": [
    "#Create participants.tsv \n",
    "file_dir1 =  \"/project/meganorm/Data/EEG_CMI/info/participants_info.csv\"\n",
    "save_dir1 = \"/project/meganorm/Data/EEG_CMI/EEG_BIDS/participants_bids.tsv\"\n",
    "make_demo_file_bids(file_dir1, \n",
    "                        save_dir1, \n",
    "                        0, \n",
    "                        3, \n",
    "                        {\"col_name\": \"sex\", \"col_id\": 2, \"mapping\":{0: \"Male\", 1: \"Female\"}, \"single_value\":None}, \n",
    "                        {\"col_name\": \"site\", \"col_id\": 1, \"mapping\":{\"CMI1\": \"CMI1\", \"CMI2\": \"CMI2\", \"CMI3\": \"CMI3\", \"CMI4\": \"CMI4\", \"CMI5\": \"CMI5\"}, \"single_value\":None},\n",
    "                        {\"col_name\": \"eyes\", \"col_id\": None, \"mapping\": None, \"single_value\":\"eyes_closed\"},\n",
    "                        {\"col_name\": \"diagnosis\", \"col_id\": 12, \"mapping\": {\n",
    "                            \"No info about confirmation\": \"no info about confirmation\",\n",
    "                            \"Diagnosis not confirmed\": \"diagnosis not confirmed\",\n",
    "                            \"dropped out\": \"dropped out\", \n",
    "                            \"Attention-Deficit/Hyperactivity Disorder\": \"adhd\",\n",
    "                            \"Specific Learning Disorder\": \"specific learning disorder\", \n",
    "                            \"Schizophrenia Spectrum and other Psychotic Disorders\": \"schizophrenia spectrum and other psychotic disorder\", \n",
    "                            \"Nonadherence to Medical Treatment\": \"nonadherence to medical treatment\", \n",
    "                            \"Autism Spectrum Disorder\": \"asd\",\n",
    "                            \"Gender Dysphoria\": \"gender dysphoria\", \n",
    "                            \"No Diagnosis Given: Incomplete Eval\": \"unknown\",\n",
    "                            \"Obsessive Compulsive and Related Disorders\": \"obsessive compulsive and related disorder\",\n",
    "                            \"Elimination Disorders\": \"elimination disorder\",\n",
    "                            \"Bipolar and Related Disorders\": \"bipolar and related disorder\",\n",
    "                            \"Disruptive, Impulse Control and Conduct Disorders\": \"disruptive, impulse control and conduct disorder\",\n",
    "                            \"Anxiety Disorders\": \"anxiety disorder\",\n",
    "                            \"No Diagnosis Given\": \"control\", \n",
    "                            \"Neurocognitive Disorders\": \"neurocognitive disorder\", \n",
    "                            \"Depressive Disorders\": \"depressive disorder\", \n",
    "                            \"Feeding and Eating Disorders\": \"feeding and eating disorder\", \n",
    "                            \"Trauma and Stressor Related Disorders\": \"trauma and stressor related disorder\", \n",
    "                            \"nan\": \"unknown\", \"Communication Disorder\": \"communication disorder\", \n",
    "                            \"Intellectual Disability\": \"intellectual disability\",\n",
    "                            \"Motor Disorder\": \"motor disorder\", \n",
    "                            \"Cannabis-Related\": \"cannabis-related\", \n",
    "                            \"Substance Related and Addictive Disorders\": \"substance related and addictive disorders\",\n",
    "                            \"Other Neurodevelopmental Disorders\": \"other neurodevelopmental disorder\"}, \"single_value\":None})\n",
    "\n",
    "file_dir2 = \"/project/meganorm/Data/EEG_TDBrain/EEG/TDBRAIN_participants_V2.tsv\"\n",
    "save_dir2 = \"/project/meganorm/Data/EEG_TDBrain/EEG/participants_bids.tsv\"\n",
    "make_demo_file_bids(file_dir2, \n",
    "                        save_dir2, \n",
    "                        0, \n",
    "                        10, \n",
    "                        {\"col_name\": \"sex\", \"col_id\": 11, \"mapping\": {1.0: \"Male\", 0.0: \"Female\"}, \"single_value\":None},\n",
    "                        {\"col_name\": \"eyes\", \"col_id\": None, \"mapping\": None, \"single_value\":\"eyes_closed\"},\n",
    "                        {\"col_name\": \"diagnosis\", \"col_id\": 3, \"mapping\": {\n",
    "                            \"UNKNOWN\": \"unknown\", \n",
    "                            \"REPLICATION\": \"replication\", \"BURNOUT\": \"burnout\",  \"SMC\": \"smc\", \n",
    "                            \"HEALTHY\": \"control\", \"Dyslexia\": \"dyslexia\", \"CHRONIC PAIN\": \"chronic pain\", \n",
    "                            \"MDD\": \"mdd\", \"Nan\": \"nan\", \"ADHD\": \"adhd\", \n",
    "                            \"ADHD/ASPERGER\": \"adhd/asperger\", \"PDD NOS/DYSLEXIA\": \"pdd nos/dyslexia\", \n",
    "                            \"PDD NOS\": \"pdd nos\", \"WHIPLASH\": \"whiplash\", \"ANXIETY\": \"anxiety\",\n",
    "                            \"ADHD/DYSLEXIA\": \"adhd/dyslexia\", \"ASD\": \"asd\", \"TINNITUS\": \"tinnitus\",\n",
    "                            \"OCD\": \"ocd\", \"Tinnitus\": \"tinnitus\", \"PDD NOS \": \"pdd nos\", \"PANIC\": \"panic\",\n",
    "                            \"MDD/ANXIETY\": \"mdd/anxiety\", \"MIGRAINE\": \"migraine\", \"PDD NOS/ANXIETY\": \"pdd nos/anxiety\",\n",
    "                            \"PARKINSON\": \"parkinson\",  \"BIPOLAR\": \"bipolar\",  \"MDD/bipolar\": \"mdd/bipolar\",\n",
    "                            \"DYSPRAXIA\": \"dyspraxia\", \"TINNITUS/MDD\": \"tinnitus/mdd\", \"ADHD/ASD/ANXIETY\": \"adhd/asd/anxiety\",\n",
    "                            \"MDD/ADHD\": \"mdd/adhd\",  \"ADHD/PDD NOS\": \"adhd/pdd nos\", \"MDD/BIPOLAR\": \"mdd/bipolar\",\n",
    "                            \"ASPERGER\": \"asperger\", \"ADHD/EPILEPSY\": \"adhd/epilepsy\", \"MDD/PAIN\": \"mdd/pain\",\n",
    "                            \"PDD NOS/GTS\": \"pdd nos/gts\",  \"PDD NOS/ADHD\": \"pdd nos/adhd\", \"PDD NOS/ASD\": \"pdd nos/asd\",\n",
    "                            \"TBI\": \"tbi\", \"ADHD/ANXIETY\": \"adhd/anxiety\",  \"ADHD/DYSLEXIA/DYSCALCULIA\": \"adhd/dyslexia/dyscalculia\",\n",
    "                            \"ADHD/MDD\": \"adhd/mdd\", \"MDD/PANIC\": \"mdd/panic\", \"DEPERSONALIZATION\": \"depersonalization\",\n",
    "                            \"MDD/TRAUMA\": \"mdd/trauma\", \"PTSD/ADHD\": \"ptsd/adhd\",  \"OCD/DPS\": \"ocd/dps\",\"MDD/OCD\": \"mdd/ocd\",\n",
    "                            \"MDD/TUMOR\": \"mdd/tumor\", \"ADHD/GTS\": \"adhd/gts\", \"OCD/MDD\": \"ocd/mdd\", \"CONVERSION DX\": \"conversion dx\",\n",
    "                            \"ASD/ASPERGER\": \"asd/asperger\", \"MDD/ADHD/LYME\": \"mdd/adhd/lyme\", \"ADHD/OCD\": \"adhd/ocd\",\n",
    "                            \"MSA-C\": \"msa-c\", \"OCD/ASD\": \"ocd/asd\", \"STROKE/PAIN\": \"stroke/pain\",\n",
    "                            \"STROKE \": \"stroke\", \"MDD/OCD/ADHD\": \"mdd/ocd/adhd\",  \"EPILEPSY/OCD\": \"epilepsy/ocd\",\n",
    "                            \"ADHD \": \"adhd\", \"INSOMNIA\": \"insomnia\", \"MDD/ADHD/ANOREXIA\": \"mdd/adhd/anorexia\",\n",
    "                            \"MDD/ANXIETY/TINNITUS\": \"mdd/anxiety/tinnitus\"}, \"single_value\":None})\n",
    "\n",
    "\n",
    "file_dir3 = \"/project/meganorm/Data/EEG_MIPDB/info/MIPDB_PublicFile.csv\"\n",
    "save_dir3 = \"/project/meganorm/Data/EEG_MIPDB/EEG_BIDS/participants_bids.tsv\"\n",
    "make_demo_file_bids(file_dir3, \n",
    "                    save_dir3, \n",
    "                    0, \n",
    "                    1, \n",
    "                    {\"col_name\": \"sex\", \"col_id\": 2, \"mapping\": {1.0: \"Male\", 2.0: \"Female\"}, \"single_value\":None},\n",
    "                    {\"col_name\": \"eyes\", \"col_id\": None, \"mapping\": None, \"single_value\":\"eyes_closed\"},\n",
    "                    {\"col_name\": \"diagnosis\", \"col_id\": 37, \"mapping\": {\n",
    "                        0: \"control\",\n",
    "                        1: \"unknown_1\",\n",
    "                        2: \"unknown_2\"}, \"single_value\":None})\n"
   ]
  },
  {
   "cell_type": "markdown",
   "metadata": {},
   "source": [
    "# Train-Test split"
   ]
  },
  {
   "cell_type": "code",
   "execution_count": null,
   "metadata": {},
   "outputs": [],
   "source": [
    "### Data preparation for Normative Modeling\n",
    "base_dirs = [values[\"base_dir\"] for values in datasets.values()]\n",
    "dataset_names = list(datasets.keys())\n",
    "\n",
    "all_diagnosis = ['adhd', 'specific learning disorder', 'nonadherence to medical treatment', 'asd', 'anxiety disorder', 'communication disorder', \n",
    "                 'intellectual disability', 'depressive disorder', 'motor disorder', 'feeding and eating disorder', 'trauma and stressor related disorder', \n",
    "                 'disruptive, impulse control and conduct disorder', 'elimination disorder', 'bipolar and related disorder', 'obsessive compulsive and related disorder', \n",
    "                 'cannabis-related', 'neurocognitive disorder', 'schizophrenia spectrum and other psychotic disorder', 'other neurodevelopmental disorder', 'gender dysphoria', \n",
    "                 'burnout', 'dyslexia', 'chronic pain', 'mdd', 'ocd', 'parkinson', 'insomnia', 'unknown_1', 'unknown_2']\n",
    "\n",
    "adhd_diagnosis = ['adhd']\n",
    "parkinson_diagnosis = ['parkinson']\n",
    "anxiety_diagnosis = ['anxiety disorder']\n",
    "dyslexia_diaganosis = ['dyslexia']\n",
    "learning_diagnosis = ['specific learning disorder']\n",
    "autism_diagnosis = ['asd']\n",
    "mdd_diagnosis = ['mdd']\n",
    "depressive_diagnosis = ['depressive disorder']\n",
    "ocd_diagnosis = ['ocd']\n",
    "control = ['control']\n",
    "\n",
    "merged_data, data_patient = merge_fidp_demo(base_dirs, features_dir, dataset_names, include_patients=False, diagnosis = all_diagnosis)\n",
    "biomarker_num = hbr_data_split(merged_data, nm_processing_dir, drop_nans=True, batch_effects=['sex', 'site'], random_seed=random_seeds[run], train_split=0.75)\n",
    "biomarker_names = list(merged_data.columns[3:])\n",
    "\n",
    "print(biomarker_num, biomarker_names)\n",
    "print(merged_data.shape)\n",
    "print(data_patient.shape)"
   ]
  },
  {
   "cell_type": "code",
   "execution_count": null,
   "metadata": {},
   "outputs": [],
   "source": [
    "merged_data.to_csv(\"/home/meganorm-yverduyn/Results/Thesis_all_diagnosis/Features/all_merged_data.csv\")"
   ]
  },
  {
   "cell_type": "markdown",
   "metadata": {},
   "source": [
    "# Subject information"
   ]
  },
  {
   "cell_type": "code",
   "execution_count": null,
   "metadata": {},
   "outputs": [],
   "source": [
    "site_names = {\n",
    "    0: \"TDBrain\",\n",
    "    1: \"MIPDB\",\n",
    "    2: \"CMI1\",\n",
    "    3: \"CMI2\",\n",
    "    4: \"CMI3\"\n",
    "}\n",
    "\n",
    "# Loop through sites and print info\n",
    "for site, name in site_names.items():\n",
    "    print(f\"Dataset name: {name}\")\n",
    "    print(f\"Number of controls: {merged_data[merged_data.site == site].shape[0]} participants\")\n",
    "    print(f\"Number of patients: {data_patient[data_patient['site'] == site].shape[0]} participants\")\n",
    "    print(f\"Mean age controls: {merged_data[merged_data.site == site]['age'].mean():.2f}\")\n",
    "    print(f\"Mean age patients: {data_patient[data_patient.site == site]['age'].mean():.2f}\")\n",
    "    print(f\"Max age controls: {merged_data[merged_data.site == site]['age'].max():.2f}\")\n",
    "    print(f\"Max age patients: {data_patient[data_patient.site == site]['age'].max():.2f}\")\n",
    "    print(f\"Min age controls: {merged_data[merged_data.site == site]['age'].min():.2f}\")\n",
    "    print(f\"Min age patients: {data_patient[data_patient.site == site]['age'].min():.2f}\")\n",
    "    print(f\"Std age controls: {merged_data[merged_data.site == site]['age'].std():.2f}\")\n",
    "    print(f\"Std age patients: {data_patient[data_patient.site == site]['age'].std():.2f}\")\n",
    "    print(f\"Female num control: {merged_data[np.logical_and(merged_data.site == site, merged_data.sex == 1)].shape[0]} participants\")\n",
    "    print(f\"Female num patients: {data_patient[np.logical_and(data_patient.site == site, data_patient.sex == 1)].shape[0]} participants\")\n",
    "    print(\"-\" * 50)  # Separator for better readability\n"
   ]
  },
  {
   "cell_type": "code",
   "execution_count": null,
   "metadata": {},
   "outputs": [],
   "source": [
    "# plot age distribution for different sites and train/test/validation partitions #TRY \n",
    "path = \"/home/meganorm-yverduyn/Results/Thesis_all_diagnosis/pics\"\n",
    "site_names = {\n",
    "    0: \"TDBrain\",\n",
    "    1: \"MIPDB\",\n",
    "    2: \"CMI1\",\n",
    "    3: \"CMI2\",\n",
    "    4: \"CMI3\"\n",
    "}\n",
    "plot_age_dist2(merged_data, site_names=site_names, save_path=path)"
   ]
  },
  {
   "cell_type": "markdown",
   "metadata": {},
   "source": [
    "# Specify the confgurations and job specifications for NM"
   ]
  },
  {
   "cell_type": "code",
   "execution_count": null,
   "metadata": {},
   "outputs": [],
   "source": [
    "### Setting up NM configs\n",
    "\n",
    "python_path = '/project/meganorm/Software/Miniconda3/envs/mne/bin/python' \n",
    "\n",
    "hbr_configs = {\n",
    "                'homo_Gaussian_linear':{'model_type':'linear', 'likelihood':'Normal', 'linear_sigma':'False',\n",
    "                                        'random_slope_mu':'False', 'linear_epsilon':'False', 'linear_delta':'False'}, \n",
    "                'homo_Gaussian_bspline':{'model_type':'bspline', 'likelihood':'Normal', 'linear_sigma':'False',\n",
    "                                        'random_slope_mu':'False', 'linear_epsilon':'False', 'linear_delta':'False'}, \n",
    "                'homo_SHASH_linear':{'model_type':'linear', 'likelihood':'SHASHb', 'linear_sigma':'False',\n",
    "                                    'random_slope_mu':'False', 'linear_epsilon':'False', 'linear_delta':'False'}, \n",
    "                'homo_SHASH_bspline':{'model_type':'bspline', 'likelihood':'SHASHb', 'linear_sigma':'False',\n",
    "                                    'random_slope_mu':'False', 'linear_epsilon':'False', 'linear_delta':'False'}, \n",
    "                'hetero_Gaussian_linear':{'model_type':'linear', 'likelihood':'Normal', 'linear_sigma':'True',\n",
    "                                        'random_slope_mu':'False', 'linear_epsilon':'False', 'linear_delta':'False'},\n",
    "                'hetero_Gaussian_bspline':{'model_type':'bspline', 'likelihood':'Normal', 'linear_sigma':'True',\n",
    "                                        'random_slope_mu':'False', 'linear_epsilon':'False', 'linear_delta':'False'},\n",
    "                'hetero_SHASH_linear':{'model_type':'linear', 'likelihood':'SHASHb', 'linear_sigma':'True',\n",
    "                                    'random_slope_mu':'False', 'linear_epsilon':'True', 'linear_delta':'True'},\n",
    "                'hetero_SHASH_bspline':{'model_type':'bspline', 'likelihood':'SHASHb', 'linear_sigma':'True',\n",
    "                                        'random_slope_mu':'False', 'linear_epsilon':'True', 'linear_delta':'True'},\n",
    "            }\n",
    "\n",
    "inscaler='None' \n",
    "outscaler='None' \n",
    "batch_size = 1\n",
    "outputsuffix = '_estimate'\n",
    "\n",
    "respfile = os.path.join(nm_processing_dir, 'y_train.pkl')\n",
    "covfile = os.path.join(nm_processing_dir, 'x_train.pkl')\n",
    "\n",
    "testrespfile_path = os.path.join(nm_processing_dir, 'y_test.pkl')\n",
    "testcovfile_path = os.path.join(nm_processing_dir, 'x_test.pkl')\n",
    "\n",
    "trbefile = os.path.join(nm_processing_dir, 'b_train.pkl')\n",
    "tsbefile = os.path.join(nm_processing_dir, 'b_test.pkl')\n",
    "\n",
    "memory = '2gb'\n",
    "duration = '5:00:00'\n",
    "cluster_spec = 'slurm'"
   ]
  },
  {
   "cell_type": "markdown",
   "metadata": {},
   "source": [
    "# Run the normative modeling"
   ]
  },
  {
   "cell_type": "markdown",
   "metadata": {},
   "source": [
    "This part trains on 75% of control subjects & tests on rest of control subjects (estimate function does fit & predict at once). The models are saved so that they can be used with clinical population as test set."
   ]
  },
  {
   "cell_type": "code",
   "execution_count": null,
   "metadata": {},
   "outputs": [],
   "source": [
    "#for method in hbr_configs.keys():\n",
    "method = 'hetero_SHASH_bspline'\n",
    "processing_dir = os.path.join(nm_processing_dir, method) + '/'\n",
    "nm_log_path = os.path.join(processing_dir, 'log') + '/'\n",
    "\n",
    "if not os.path.isdir(processing_dir):\n",
    "    os.makedirs(processing_dir)\n",
    "if not os.path.isdir(nm_log_path):\n",
    "    os.makedirs(nm_log_path)\n",
    "\n",
    "execute_nm(processing_dir, python_path,\n",
    "            'NM', covfile, respfile, batch_size, memory, duration, alg='hbr', \n",
    "            log_path=nm_log_path, binary=True, testcovfile_path=testcovfile_path, \n",
    "            testrespfile_path=testrespfile_path,trbefile=trbefile, tsbefile=tsbefile, \n",
    "            model_type=hbr_configs[method]['model_type'], likelihood=hbr_configs[method]['likelihood'],  \n",
    "            linear_sigma=hbr_configs[method]['linear_sigma'], random_slope_mu=hbr_configs[method]['random_slope_mu'],\n",
    "            linear_epsilon=hbr_configs[method]['linear_epsilon'], linear_delta=hbr_configs[method]['linear_delta'], \n",
    "            savemodel='True', inscaler=inscaler, outscaler=outscaler, outputsuffix=outputsuffix, \n",
    "            interactive='auto', cluster_spec=cluster_spec, nuts_sampler=\"nutpie\", n_cores_per_batch=\"2\")"
   ]
  },
  {
   "cell_type": "markdown",
   "metadata": {},
   "source": [
    "# Estimate the centiles and plot them on top of control test set"
   ]
  },
  {
   "cell_type": "code",
   "execution_count": null,
   "metadata": {},
   "outputs": [],
   "source": [
    "## Estimate centiles \n",
    "method = 'hetero_SHASH_bspline'\n",
    "processing_path = os.path.join(nm_processing_dir, method)\n",
    "\n",
    "q = estimate_centiles(processing_path, biomarker_num, quantiles=[0.05, 0.25, 0.5, 0.75, 0.95],\n",
    "                          batch_map={0:{'Male':0, 'Female':1}, 1:{'TDBrain':0, 'MIPDB':1, 'CMI1':2, 'CMI2':3, 'CMI3': 4, 'CMI4': 5}}, \n",
    "                          age_range=[5, 40])"
   ]
  },
  {
   "cell_type": "code",
   "execution_count": null,
   "metadata": {},
   "outputs": [],
   "source": [
    "## Plot ranges \n",
    "method = 'hetero_SHASH_bspline'\n",
    "processing_path = os.path.join(nm_processing_dir, method)\n",
    "\n",
    "plot_nm_range_site2(processing_path, nm_processing_dir, batch_marker={\"site\":['TDBrain', 'MIPDB', 'CMI1', 'CMI2', 'CMI3', 'CMI4']})"
   ]
  },
  {
   "cell_type": "markdown",
   "metadata": {},
   "source": [
    "# Evaluation metrices"
   ]
  },
  {
   "cell_type": "code",
   "execution_count": null,
   "metadata": {},
   "outputs": [],
   "source": [
    "method = 'hetero_SHASH_bspline'\n",
    "processing_dir = os.path.join(nm_processing_dir, method) + '/'\n",
    "\n",
    "metrics_values = aggregate_metrics_across_runs(nm_processing_dir, method, biomarker_names, testcovfile_path, \n",
    "                              testrespfile_path, tsbefile, metrics = [\"MACE\", \"skewness\", \"kurtosis\"], num_runs=3)\n",
    "metrics_summary_path = os.path.join(processing_dir, \"metrics_summary.pkl\")\n",
    "\n",
    "with open(metrics_summary_path, \"wb\") as file:\n",
    "    pickle.dump(metrics_values, file)\n",
    "\n",
    "\n",
    "plot_metrics(metrics_summary_path, \n",
    "            biomarker_names, \n",
    "            feature_new_name=[\"Theta\", \"Alpha\", \"Beta\", \"Gamma\"], \n",
    "            save_path=pics_dir)\n"
   ]
  },
  {
   "cell_type": "markdown",
   "metadata": {},
   "source": [
    "# CLINICAL VALIDATION"
   ]
  },
  {
   "cell_type": "code",
   "execution_count": null,
   "metadata": {},
   "outputs": [],
   "source": [
    "random_seeds = [42, 100, 0, 10, 12]\n",
    "method = 'hetero_SHASH_bspline'\n",
    "processing_dir = os.path.join(nm_processing_dir, method) + '/'\n",
    "nm_log_path = os.path.join(processing_dir, 'log') + '/'\n",
    "\n",
    "for i in range(len(random_seeds)):\n",
    "\n",
    "    nm_processing_dir_temp = nm_processing_dir.replace(\"Run_0\", f\"Run_{i}\")\n",
    "    print(nm_processing_dir_temp)\n",
    "    processing_dir_temp = processing_dir.replace(\"Run_0\", f\"Run_{i}\")\n",
    "    print(processing_dir_temp)\n",
    "\n",
    "    prefix = \"clinicalpredict_\"\n",
    "    prepare_prediction_data(data_patient.drop('diagnosis', axis=1),\n",
    "                                nm_processing_dir_temp, \n",
    "                                drop_nans=True, \n",
    "                                batch_effects=['sex', 'site'], \n",
    "                                prefix=prefix)\n",
    "\n",
    "    testrespfile_path = os.path.join(nm_processing_dir_temp, prefix + 'y_test.pkl')\n",
    "    testcovfile_path = os.path.join(nm_processing_dir_temp, prefix + 'x_test.pkl')\n",
    "    tsbefile = os.path.join(nm_processing_dir_temp, prefix + 'b_test.pkl')\n",
    "\n",
    "\n",
    "    execute_nm(processing_dir_temp, python_path,\n",
    "            'NM', testcovfile_path, testrespfile_path, batch_size, memory, duration, alg='hbr', \n",
    "            log_path=nm_log_path, binary=True, tsbefile=tsbefile, func=\"predict\", \n",
    "            model_type=hbr_configs[method]['model_type'], likelihood=hbr_configs[method]['likelihood'],  \n",
    "            linear_sigma=hbr_configs[method]['linear_sigma'], random_slope_mu=hbr_configs[method]['random_slope_mu'],\n",
    "            linear_epsilon=hbr_configs[method]['linear_epsilon'], linear_delta=hbr_configs[method]['linear_delta'], \n",
    "            savemodel='True', inscaler=inscaler, outscaler=outscaler, outputsuffix=\"clinicalpredict\", inputsuffix=outputsuffix,\n",
    "            interactive='auto', cluster_spec=cluster_spec, nuts_sampler=\"nutpie\", n_cores_per_batch=\"2\")"
   ]
  },
  {
   "cell_type": "markdown",
   "metadata": {},
   "source": [
    "ABNORMALITY PROBABILITY INDEX"
   ]
  },
  {
   "cell_type": "code",
   "execution_count": null,
   "metadata": {},
   "outputs": [],
   "source": [
    "site_id = 2 #CHANGE(?)\n",
    "p_vals, aucs = [], []\n",
    "\n",
    "random_seeds = [42, 100, 0, 10, 12]\n",
    "\n",
    "for i in range(len(random_seeds)):\n",
    "\n",
    "    nm_processing_dir_temp = nm_processing_dir.replace(\"Run_0\", f\"Run_{i}\")\n",
    "    processing_dir_temp = processing_dir.replace(\"Run_0\", f\"Run_{i}\")\n",
    "\n",
    "    p_val, auc = abnormal_probability(processing_dir_temp,\n",
    "                                    nm_processing_dir_temp, \n",
    "                                    site_id,\n",
    "                                    n_permutation=1000)\n",
    "    \n",
    "    p_vals.append(p_val); aucs.append(auc)\n",
    "\n",
    "p_vals = pd.DataFrame(np.vstack(p_vals))\n",
    "aucs = pd.DataFrame(np.vstack(aucs))\n",
    "\n",
    "aucs.columns = [\"Theta\", \"Alpha\", \"Beta\", \"Gamma\", \"averaged\"]\n",
    "aucs.head(50)"
   ]
  },
  {
   "cell_type": "markdown",
   "metadata": {},
   "source": [
    "AUC BOXPLOT"
   ]
  },
  {
   "cell_type": "code",
   "execution_count": null,
   "metadata": {},
   "outputs": [],
   "source": [
    "box_plot_auc(aucs, save_path=pics_dir)\n"
   ]
  },
  {
   "cell_type": "code",
   "execution_count": null,
   "metadata": {},
   "outputs": [],
   "source": [
    "aucs.mean()"
   ]
  },
  {
   "cell_type": "markdown",
   "metadata": {},
   "source": [
    "# Scatter plot of Z-scores for patients"
   ]
  },
  {
   "cell_type": "code",
   "execution_count": null,
   "metadata": {},
   "outputs": [],
   "source": [
    "with open(os.path.join(processing_dir, \"Z_clinicalpredict.pkl\"), \"rb\") as file:\n",
    "    z_patient = pickle.load(file)\n",
    "\n",
    "#z_patient.index = data_patient.index[data_patient['site'] == site_id] \n",
    "#z_patient.index = data_patient.index\n",
    "z_patient.index = data_patient.index[:len(z_patient)]\n",
    "z_patient.columns = biomarker_names\n",
    "\n",
    "z_scores_scatter_plot_continuum(X = list(z_patient.loc[:, \"Adjusted_Canonical_Relative_PowerTheta_all\"]),\n",
    "                    Y = list(z_patient.loc[:, \"Adjusted_Canonical_Relative_PowerBeta_all\"]),\n",
    "                    bands_name=[\"theta\", \"beta\"], \n",
    "                    thr=0.68,\n",
    "                    save_path=pics_dir)"
   ]
  },
  {
   "cell_type": "markdown",
   "metadata": {},
   "source": [
    "# INOCS"
   ]
  },
  {
   "cell_type": "code",
   "execution_count": null,
   "metadata": {},
   "outputs": [],
   "source": [
    "! pip install -U kaleido"
   ]
  },
  {
   "cell_type": "code",
   "execution_count": null,
   "metadata": {},
   "outputs": [],
   "source": [
    "q_path = f\"/home/{username}/Results/{project}/NM/Run_0/hetero_SHASH_bspline/Quantiles_estimate.pkl\"\n",
    "\n",
    "sub_index = \"sub-88018225\"\n",
    "statistics = cal_stats_for_gauge(q_path, biomarker_names, \n",
    "                                 site_id=data_patient.loc[sub_index][\"site\"], \n",
    "                                 gender_id=data_patient.loc[sub_index][\"sex\"], \n",
    "                                 age=data_patient.loc[sub_index][\"age\"]*100)\n",
    "\n",
    "new_names = [\"Theta\", \"Alpha\", \"Beta\", \"Gamma\"]\n",
    "\n",
    "for i, name in enumerate(biomarker_names):\n",
    "\n",
    "    if new_names[i] == \"Gamma\": max_value=0.2\n",
    "    else: max_value=1\n",
    "\n",
    "    plot_quantile_gauge(data_patient.loc[sub_index, name],\n",
    "                        statistics[name][1],\n",
    "                        statistics[name][3],\n",
    "                        statistics[name][0],\n",
    "                        statistics[name][4],\n",
    "                        statistics[name][2],\n",
    "                        title=\"\",\n",
    "                        max_value=max_value,\n",
    "                        show_legend=False,\n",
    "                        bio_name=new_names[i],\n",
    "                        save_path=pics_dir\n",
    "                        )"
   ]
  },
  {
   "cell_type": "code",
   "execution_count": null,
   "metadata": {},
   "outputs": [],
   "source": []
  },
  {
   "cell_type": "code",
   "execution_count": null,
   "metadata": {},
   "outputs": [],
   "source": []
  }
 ],
 "metadata": {
  "kernelspec": {
   "display_name": "Remote Cluster Kernel",
   "language": "python",
   "name": "cluster_env"
  },
  "language_info": {
   "codemirror_mode": {
    "name": "ipython",
    "version": 3
   },
   "file_extension": ".py",
   "mimetype": "text/x-python",
   "name": "python",
   "nbconvert_exporter": "python",
   "pygments_lexer": "ipython3",
   "version": "3.12.0"
  }
 },
 "nbformat": 4,
 "nbformat_minor": 2
}
