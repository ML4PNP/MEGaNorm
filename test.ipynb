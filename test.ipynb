{
 "cells": [
  {
   "cell_type": "code",
   "execution_count": null,
   "metadata": {},
   "outputs": [],
   "source": [
    "import matplotlib.pyplot as plt\n",
    "from glob import glob\n",
    "from tqdm import tqdm\n",
    "import numpy as np\n",
    "import fooof as f\n",
    "import pandas as pd\n",
    "import mne\n",
    "import h5py\n",
    "\n",
    "from config.config import *\n",
    "from processUtils import neuralParameterize, isNan\n",
    "from dataManagementUtils import storeFooofRes, logFunc\n",
    "\n",
    "\n",
    "import warnings\n",
    "warnings.filterwarnings('ignore')\n",
    "\n",
    "\n",
    "\n",
    "\n",
    "def fooof(dataPaths, savePath, freqRange, fs, powerNoise) -> None: \n",
    "    \"\"\"\n",
    "    This function will do the following steps\n",
    "    1. \n",
    "    \"\"\"\n",
    "\n",
    "       \n",
    "    exSub= pd.read_csv(\"logs/excludedSubj.txt\", sep=\"-\", header=None).T.iloc[:,0].to_list()[1:]\n",
    "\n",
    "    subjId = subjPath.split(\"/\")[-1][:-4]\n",
    "\n",
    "    # read the data\n",
    "    data = mne.io.read_raw_fif(subjPath,\n",
    "                            preload=True,\n",
    "                            verbose=False).pick(picks=[\"meg\"])\n",
    "\n",
    "\n",
    "    data.notch_filter(powerNoise, n_jobs=-1, verbose=False)\n",
    "\n",
    "    segments = mne.make_fixed_length_epochs(data,\n",
    "                                            duration=10,\n",
    "                                            overlap=3,\n",
    "                                            verbose=False\n",
    "                                            )\n",
    "    \n",
    "    # mag ==> grad\n",
    "    # segments.as_type(ch_type='grad', mode='fast')\n",
    "\n",
    "    # rejecting noisy epchs\n",
    "    segments = segments.drop_bad(\n",
    "                    reject=rejectCriteria, \n",
    "                    flat=flatCriteria, \n",
    "                    verbose=False,\n",
    "                    )\n",
    "    \n",
    "    if isNan(np.nanmean(segments)): print(\"het\")\n",
    "\n",
    "    # segments = segments.load_data().interpolate_bads().average().get_data()\n",
    "\n",
    "    # # if the data related to a person is entierly nan, \n",
    "    # # exclude them\n",
    "    # if isNan(np.nanmean(segments)): raise ValueError(\"NaN input\")\n",
    "        \n",
    "    \n",
    "    # # parametrizing neural spectrum        \n",
    "    # (periodicsPeaks ,\n",
    "    # aperiodics,\n",
    "    # periodic,\n",
    "    # freqs,\n",
    "    # aperiodicParams, \n",
    "    # periodicParams) = neuralParameterize.fooofModeling(segments, \n",
    "    #                                         \"welch\", \n",
    "    #                                         fs,\n",
    "    #                                         freqRange)\n",
    "    \n",
    "\n",
    "    # # save the results\n",
    "    # storeFooofRes(savePath, \n",
    "    #                 subjId, \n",
    "    #                 periodicsPeaks, \n",
    "    #                 aperiodics, \n",
    "    #                 periodic,\n",
    "    #                 freqs, \n",
    "    #                 aperiodicParams, \n",
    "    #                 periodicParams)\n",
    "\n",
    "    # logFunc(\"logs/fooofLog.txt\", subjId)\n",
    "\n",
    "    print(30*\"-\")\n",
    "            \n",
    "\n",
    "        \n",
    "\n",
    "\n",
    "if __name__ == \"__main__\":\n",
    "\n",
    "    basPath = \"data/icaPreprocessed/*.fif\"\n",
    "    dataPaths = glob(basPath)\n",
    "    \n",
    "    savePath = \"data/fooofResults.h5\"\n",
    "\n",
    "    freqRange :list = [1.0, 60.0]\n",
    "    fs = 500 #sampling rate\n",
    "    powerNoise = 50\n",
    "\n",
    "    for count, subjPath in enumerate(tqdm(dataPaths)):\n",
    "\n",
    "        try:\n",
    "            # parametrizing neural spectrum and saving the res\n",
    "            fooof(subjPath, savePath, freqRange, fs, powerNoise)\n",
    "        except ValueError:\n",
    "            subjId = subjPath.split(\"/\")[-1][:-4]\n",
    "            logFunc(\"logs/excludedSubj.txt\", subjId)\n",
    "\n",
    "\n",
    "\n",
    "\n",
    "\n",
    "\n",
    "\n",
    "\n",
    "\n",
    "\n",
    "\n"
   ]
  },
  {
   "cell_type": "code",
   "execution_count": null,
   "metadata": {},
   "outputs": [],
   "source": [
    "\n",
    "\n",
    "\n",
    "\n",
    "\n",
    "\n",
    "\n",
    "\n",
    "\n",
    "\n"
   ]
  },
  {
   "cell_type": "code",
   "execution_count": 12,
   "metadata": {},
   "outputs": [],
   "source": [
    "import matplotlib.pyplot as plt\n",
    "from glob import glob\n",
    "from tqdm import tqdm\n",
    "import numpy as np\n",
    "import fooof as f\n",
    "import pandas as pd\n",
    "import mne\n",
    "import h5py\n",
    "\n",
    "from config.config import *\n",
    "from processUtils import neuralParameterize, isNan\n",
    "from dataManagementUtils import storeFooofRes, logFunc\n",
    "\n",
    "\n",
    "import warnings\n",
    "warnings.filterwarnings('ignore')\n",
    "\n",
    "\n",
    "\n",
    "basPath = \"data/icaPreprocessed/*.fif\"\n",
    "dataPaths = glob(basPath)\n",
    "\n",
    "savePath = \"data/fooofResults.h5\"\n",
    "\n",
    "freqRange :list = [1.0, 60.0]\n",
    "fs = 500 #sampling rate\n",
    "powerNoise = 50\n",
    "\n",
    "       \n",
    "exSub= pd.read_csv(\"logs/excludedSubj.txt\", sep=\"sub\", header=None).T.iloc[:,0].to_list()[1:]\n",
    "\n",
    "exSub = [\"sub\" + x for x in exSub]"
   ]
  },
  {
   "cell_type": "code",
   "execution_count": 59,
   "metadata": {},
   "outputs": [
    {
     "name": "stderr",
     "output_type": "stream",
     "text": [
      "  3%|▎         | 22/643 [00:09<04:19,  2.39it/s]\n"
     ]
    },
    {
     "ename": "KeyboardInterrupt",
     "evalue": "",
     "output_type": "error",
     "traceback": [
      "\u001b[0;31m---------------------------------------------------------------------------\u001b[0m",
      "\u001b[0;31mKeyboardInterrupt\u001b[0m                         Traceback (most recent call last)",
      "Cell \u001b[0;32mIn[59], line 10\u001b[0m\n\u001b[1;32m      5\u001b[0m \u001b[38;5;28;01mif\u001b[39;00m subjId \u001b[38;5;129;01mnot\u001b[39;00m \u001b[38;5;129;01min\u001b[39;00m exSub: \u001b[38;5;28;01mcontinue\u001b[39;00m\n\u001b[1;32m      7\u001b[0m \u001b[38;5;66;03m# if subjId in exSub:\u001b[39;00m\n\u001b[1;32m      8\u001b[0m \n\u001b[1;32m      9\u001b[0m \u001b[38;5;66;03m# read the data\u001b[39;00m\n\u001b[0;32m---> 10\u001b[0m data \u001b[38;5;241m=\u001b[39m \u001b[43mmne\u001b[49m\u001b[38;5;241;43m.\u001b[39;49m\u001b[43mio\u001b[49m\u001b[38;5;241;43m.\u001b[39;49m\u001b[43mread_raw_fif\u001b[49m\u001b[43m(\u001b[49m\u001b[43msubjPath\u001b[49m\u001b[43m,\u001b[49m\n\u001b[1;32m     11\u001b[0m \u001b[43m                        \u001b[49m\u001b[43mpreload\u001b[49m\u001b[38;5;241;43m=\u001b[39;49m\u001b[38;5;28;43;01mTrue\u001b[39;49;00m\u001b[43m,\u001b[49m\n\u001b[1;32m     12\u001b[0m \u001b[43m                        \u001b[49m\u001b[43mverbose\u001b[49m\u001b[38;5;241;43m=\u001b[39;49m\u001b[38;5;28;43;01mFalse\u001b[39;49;00m\u001b[43m)\u001b[49m\u001b[38;5;241m.\u001b[39mpick(picks\u001b[38;5;241m=\u001b[39m[\u001b[38;5;124m\"\u001b[39m\u001b[38;5;124mmag\u001b[39m\u001b[38;5;124m\"\u001b[39m])\n\u001b[1;32m     15\u001b[0m data\u001b[38;5;241m.\u001b[39mnotch_filter(powerNoise, n_jobs\u001b[38;5;241m=\u001b[39m\u001b[38;5;241m-\u001b[39m\u001b[38;5;241m1\u001b[39m, verbose\u001b[38;5;241m=\u001b[39m\u001b[38;5;28;01mFalse\u001b[39;00m)\n\u001b[1;32m     17\u001b[0m segments \u001b[38;5;241m=\u001b[39m mne\u001b[38;5;241m.\u001b[39mmake_fixed_length_epochs(data,\n\u001b[1;32m     18\u001b[0m                                         duration\u001b[38;5;241m=\u001b[39m\u001b[38;5;241m10\u001b[39m,\n\u001b[1;32m     19\u001b[0m                                         overlap\u001b[38;5;241m=\u001b[39m\u001b[38;5;241m3\u001b[39m,\n\u001b[1;32m     20\u001b[0m                                         verbose\u001b[38;5;241m=\u001b[39m\u001b[38;5;28;01mFalse\u001b[39;00m\n\u001b[1;32m     21\u001b[0m                                         )\n",
      "File \u001b[0;32m~/.conda/envs/mne/lib/python3.12/site-packages/mne/io/fiff/raw.py:543\u001b[0m, in \u001b[0;36mread_raw_fif\u001b[0;34m(fname, allow_maxshield, preload, on_split_missing, verbose)\u001b[0m\n\u001b[1;32m    502\u001b[0m \u001b[38;5;129m@fill_doc\u001b[39m\n\u001b[1;32m    503\u001b[0m \u001b[38;5;28;01mdef\u001b[39;00m \u001b[38;5;21mread_raw_fif\u001b[39m(\n\u001b[1;32m    504\u001b[0m     fname, allow_maxshield\u001b[38;5;241m=\u001b[39m\u001b[38;5;28;01mFalse\u001b[39;00m, preload\u001b[38;5;241m=\u001b[39m\u001b[38;5;28;01mFalse\u001b[39;00m, on_split_missing\u001b[38;5;241m=\u001b[39m\u001b[38;5;124m\"\u001b[39m\u001b[38;5;124mraise\u001b[39m\u001b[38;5;124m\"\u001b[39m, verbose\u001b[38;5;241m=\u001b[39m\u001b[38;5;28;01mNone\u001b[39;00m\n\u001b[1;32m    505\u001b[0m ):\n\u001b[1;32m    506\u001b[0m \u001b[38;5;250m    \u001b[39m\u001b[38;5;124;03m\"\"\"Reader function for Raw FIF data.\u001b[39;00m\n\u001b[1;32m    507\u001b[0m \n\u001b[1;32m    508\u001b[0m \u001b[38;5;124;03m    Parameters\u001b[39;00m\n\u001b[0;32m   (...)\u001b[0m\n\u001b[1;32m    541\u001b[0m \u001b[38;5;124;03m    are updated accordingly.\u001b[39;00m\n\u001b[1;32m    542\u001b[0m \u001b[38;5;124;03m    \"\"\"\u001b[39;00m\n\u001b[0;32m--> 543\u001b[0m     \u001b[38;5;28;01mreturn\u001b[39;00m \u001b[43mRaw\u001b[49m\u001b[43m(\u001b[49m\n\u001b[1;32m    544\u001b[0m \u001b[43m        \u001b[49m\u001b[43mfname\u001b[49m\u001b[38;5;241;43m=\u001b[39;49m\u001b[43mfname\u001b[49m\u001b[43m,\u001b[49m\n\u001b[1;32m    545\u001b[0m \u001b[43m        \u001b[49m\u001b[43mallow_maxshield\u001b[49m\u001b[38;5;241;43m=\u001b[39;49m\u001b[43mallow_maxshield\u001b[49m\u001b[43m,\u001b[49m\n\u001b[1;32m    546\u001b[0m \u001b[43m        \u001b[49m\u001b[43mpreload\u001b[49m\u001b[38;5;241;43m=\u001b[39;49m\u001b[43mpreload\u001b[49m\u001b[43m,\u001b[49m\n\u001b[1;32m    547\u001b[0m \u001b[43m        \u001b[49m\u001b[43mverbose\u001b[49m\u001b[38;5;241;43m=\u001b[39;49m\u001b[43mverbose\u001b[49m\u001b[43m,\u001b[49m\n\u001b[1;32m    548\u001b[0m \u001b[43m        \u001b[49m\u001b[43mon_split_missing\u001b[49m\u001b[38;5;241;43m=\u001b[39;49m\u001b[43mon_split_missing\u001b[49m\u001b[43m,\u001b[49m\n\u001b[1;32m    549\u001b[0m \u001b[43m    \u001b[49m\u001b[43m)\u001b[49m\n",
      "File \u001b[0;32m<decorator-gen-179>:10\u001b[0m, in \u001b[0;36m__init__\u001b[0;34m(self, fname, allow_maxshield, preload, on_split_missing, verbose)\u001b[0m\n",
      "File \u001b[0;32m~/.conda/envs/mne/lib/python3.12/site-packages/mne/io/fiff/raw.py:105\u001b[0m, in \u001b[0;36mRaw.__init__\u001b[0;34m(self, fname, allow_maxshield, preload, on_split_missing, verbose)\u001b[0m\n\u001b[1;32m    103\u001b[0m next_fname \u001b[38;5;241m=\u001b[39m fname\n\u001b[1;32m    104\u001b[0m \u001b[38;5;28;01mwhile\u001b[39;00m next_fname \u001b[38;5;129;01mis\u001b[39;00m \u001b[38;5;129;01mnot\u001b[39;00m \u001b[38;5;28;01mNone\u001b[39;00m:\n\u001b[0;32m--> 105\u001b[0m     raw, next_fname, buffer_size_sec \u001b[38;5;241m=\u001b[39m \u001b[38;5;28;43mself\u001b[39;49m\u001b[38;5;241;43m.\u001b[39;49m\u001b[43m_read_raw_file\u001b[49m\u001b[43m(\u001b[49m\n\u001b[1;32m    106\u001b[0m \u001b[43m        \u001b[49m\u001b[43mnext_fname\u001b[49m\u001b[43m,\u001b[49m\u001b[43m \u001b[49m\u001b[43mallow_maxshield\u001b[49m\u001b[43m,\u001b[49m\u001b[43m \u001b[49m\u001b[43mpreload\u001b[49m\u001b[43m,\u001b[49m\u001b[43m \u001b[49m\u001b[43mdo_check_ext\u001b[49m\n\u001b[1;32m    107\u001b[0m \u001b[43m    \u001b[49m\u001b[43m)\u001b[49m\n\u001b[1;32m    108\u001b[0m     do_check_ext \u001b[38;5;241m=\u001b[39m \u001b[38;5;28;01mFalse\u001b[39;00m\n\u001b[1;32m    109\u001b[0m     raws\u001b[38;5;241m.\u001b[39mappend(raw)\n",
      "File \u001b[0;32m<decorator-gen-180>:12\u001b[0m, in \u001b[0;36m_read_raw_file\u001b[0;34m(self, fname, allow_maxshield, preload, do_check_ext, verbose)\u001b[0m\n",
      "File \u001b[0;32m~/.conda/envs/mne/lib/python3.12/site-packages/mne/io/fiff/raw.py:197\u001b[0m, in \u001b[0;36mRaw._read_raw_file\u001b[0;34m(self, fname, allow_maxshield, preload, do_check_ext, verbose)\u001b[0m\n\u001b[1;32m    195\u001b[0m     whole_file \u001b[38;5;241m=\u001b[39m \u001b[38;5;28;01mTrue\u001b[39;00m\n\u001b[1;32m    196\u001b[0m fname_rep \u001b[38;5;241m=\u001b[39m _get_fname_rep(fname)\n\u001b[0;32m--> 197\u001b[0m ff, tree, _ \u001b[38;5;241m=\u001b[39m \u001b[43mfiff_open\u001b[49m\u001b[43m(\u001b[49m\u001b[43mfname\u001b[49m\u001b[43m,\u001b[49m\u001b[43m \u001b[49m\u001b[43mpreload\u001b[49m\u001b[38;5;241;43m=\u001b[39;49m\u001b[43mwhole_file\u001b[49m\u001b[43m)\u001b[49m\n\u001b[1;32m    198\u001b[0m \u001b[38;5;28;01mwith\u001b[39;00m ff \u001b[38;5;28;01mas\u001b[39;00m fid:\n\u001b[1;32m    199\u001b[0m     \u001b[38;5;66;03m#   Read the measurement info\u001b[39;00m\n\u001b[1;32m    201\u001b[0m     info, meas \u001b[38;5;241m=\u001b[39m read_meas_info(fid, tree, clean_bads\u001b[38;5;241m=\u001b[39m\u001b[38;5;28;01mTrue\u001b[39;00m)\n",
      "File \u001b[0;32m<decorator-gen-6>:12\u001b[0m, in \u001b[0;36mfiff_open\u001b[0;34m(fname, preload, verbose)\u001b[0m\n",
      "File \u001b[0;32m~/.conda/envs/mne/lib/python3.12/site-packages/mne/_fiff/open.py:128\u001b[0m, in \u001b[0;36mfiff_open\u001b[0;34m(fname, preload, verbose)\u001b[0m\n\u001b[1;32m    126\u001b[0m fid \u001b[38;5;241m=\u001b[39m _fiff_get_fid(fname)\n\u001b[1;32m    127\u001b[0m \u001b[38;5;28;01mtry\u001b[39;00m:\n\u001b[0;32m--> 128\u001b[0m     \u001b[38;5;28;01mreturn\u001b[39;00m \u001b[43m_fiff_open\u001b[49m\u001b[43m(\u001b[49m\u001b[43mfname\u001b[49m\u001b[43m,\u001b[49m\u001b[43m \u001b[49m\u001b[43mfid\u001b[49m\u001b[43m,\u001b[49m\u001b[43m \u001b[49m\u001b[43mpreload\u001b[49m\u001b[43m)\u001b[49m\n\u001b[1;32m    129\u001b[0m \u001b[38;5;28;01mexcept\u001b[39;00m \u001b[38;5;167;01mException\u001b[39;00m:\n\u001b[1;32m    130\u001b[0m     fid\u001b[38;5;241m.\u001b[39mclose()\n",
      "File \u001b[0;32m~/.conda/envs/mne/lib/python3.12/site-packages/mne/_fiff/open.py:183\u001b[0m, in \u001b[0;36m_fiff_open\u001b[0;34m(fname, fid, preload)\u001b[0m\n\u001b[1;32m    181\u001b[0m \u001b[38;5;28;01mwhile\u001b[39;00m tag\u001b[38;5;241m.\u001b[39mnext \u001b[38;5;241m>\u001b[39m\u001b[38;5;241m=\u001b[39m \u001b[38;5;241m0\u001b[39m:\n\u001b[1;32m    182\u001b[0m     pos \u001b[38;5;241m=\u001b[39m fid\u001b[38;5;241m.\u001b[39mtell()\n\u001b[0;32m--> 183\u001b[0m     tag \u001b[38;5;241m=\u001b[39m \u001b[43mread_tag_info\u001b[49m\u001b[43m(\u001b[49m\u001b[43mfid\u001b[49m\u001b[43m)\u001b[49m\n\u001b[1;32m    184\u001b[0m     \u001b[38;5;28;01mif\u001b[39;00m tag \u001b[38;5;129;01mis\u001b[39;00m \u001b[38;5;28;01mNone\u001b[39;00m:\n\u001b[1;32m    185\u001b[0m         \u001b[38;5;28;01mbreak\u001b[39;00m  \u001b[38;5;66;03m# HACK : to fix file ending with empty tag...\u001b[39;00m\n",
      "File \u001b[0;32m~/.conda/envs/mne/lib/python3.12/site-packages/mne/_fiff/tag.py:79\u001b[0m, in \u001b[0;36mread_tag_info\u001b[0;34m(fid)\u001b[0m\n\u001b[1;32m     77\u001b[0m \u001b[38;5;28;01mdef\u001b[39;00m \u001b[38;5;21mread_tag_info\u001b[39m(fid):\n\u001b[1;32m     78\u001b[0m \u001b[38;5;250m    \u001b[39m\u001b[38;5;124;03m\"\"\"Read Tag info (or header).\"\"\"\u001b[39;00m\n\u001b[0;32m---> 79\u001b[0m     tag \u001b[38;5;241m=\u001b[39m \u001b[43m_read_tag_header\u001b[49m\u001b[43m(\u001b[49m\u001b[43mfid\u001b[49m\u001b[43m)\u001b[49m\n\u001b[1;32m     80\u001b[0m     \u001b[38;5;28;01mif\u001b[39;00m tag \u001b[38;5;129;01mis\u001b[39;00m \u001b[38;5;28;01mNone\u001b[39;00m:\n\u001b[1;32m     81\u001b[0m         \u001b[38;5;28;01mreturn\u001b[39;00m \u001b[38;5;28;01mNone\u001b[39;00m\n",
      "File \u001b[0;32m~/.conda/envs/mne/lib/python3.12/site-packages/mne/_fiff/tag.py:162\u001b[0m, in \u001b[0;36m_read_tag_header\u001b[0;34m(fid)\u001b[0m\n\u001b[1;32m    160\u001b[0m \u001b[38;5;28;01mdef\u001b[39;00m \u001b[38;5;21m_read_tag_header\u001b[39m(fid):\n\u001b[1;32m    161\u001b[0m \u001b[38;5;250m    \u001b[39m\u001b[38;5;124;03m\"\"\"Read only the header of a Tag.\"\"\"\u001b[39;00m\n\u001b[0;32m--> 162\u001b[0m     s \u001b[38;5;241m=\u001b[39m \u001b[43mfid\u001b[49m\u001b[38;5;241;43m.\u001b[39;49m\u001b[43mread\u001b[49m\u001b[43m(\u001b[49m\u001b[38;5;241;43m4\u001b[39;49m\u001b[43m \u001b[49m\u001b[38;5;241;43m*\u001b[39;49m\u001b[43m \u001b[49m\u001b[38;5;241;43m4\u001b[39;49m\u001b[43m)\u001b[49m\n\u001b[1;32m    163\u001b[0m     \u001b[38;5;28;01mif\u001b[39;00m \u001b[38;5;28mlen\u001b[39m(s) \u001b[38;5;241m!=\u001b[39m \u001b[38;5;241m16\u001b[39m:\n\u001b[1;32m    164\u001b[0m         where \u001b[38;5;241m=\u001b[39m fid\u001b[38;5;241m.\u001b[39mtell() \u001b[38;5;241m-\u001b[39m \u001b[38;5;28mlen\u001b[39m(s)\n",
      "\u001b[0;31mKeyboardInterrupt\u001b[0m: "
     ]
    }
   ],
   "source": [
    "for count, subjPath in enumerate(tqdm(dataPaths)):\n",
    "\n",
    "    subjId = subjPath.split(\"/\")[-1][:-4]\n",
    "    \n",
    "    if subjId not in exSub: continue\n",
    "\n",
    "    # if subjId in exSub:\n",
    "\n",
    "    # read the data\n",
    "    data = mne.io.read_raw_fif(subjPath,\n",
    "                            preload=True,\n",
    "                            verbose=False).pick(picks=[\"mag\"])\n",
    "\n",
    "\n",
    "    data.notch_filter(powerNoise, n_jobs=-1, verbose=False)\n",
    "\n",
    "    segments = mne.make_fixed_length_epochs(data,\n",
    "                                            duration=10,\n",
    "                                            overlap=3,\n",
    "                                            verbose=False\n",
    "                                            )"
   ]
  },
  {
   "cell_type": "code",
   "execution_count": 13,
   "metadata": {},
   "outputs": [
    {
     "data": {
      "text/plain": [
       "['sub-CC620919',\n",
       " 'sub-CC121795',\n",
       " 'sub-CC320636',\n",
       " 'sub-CC210250',\n",
       " 'sub-CC120182',\n",
       " 'sub-CC720119',\n",
       " 'sub-CC720516',\n",
       " 'sub-CC721648',\n",
       " 'sub-CC122016',\n",
       " 'sub-CC320576',\n",
       " 'sub-CC520424',\n",
       " 'sub-CC510208',\n",
       " 'sub-CC120049',\n",
       " 'sub-CC710494',\n",
       " 'sub-CC520136',\n",
       " 'sub-CC112141',\n",
       " 'sub-CC610372',\n",
       " 'sub-CC410113',\n",
       " 'sub-CC721585',\n",
       " 'sub-CC410287',\n",
       " 'sub-CC220567',\n",
       " 'sub-CC621642',\n",
       " 'sub-CC620821',\n",
       " 'sub-CC610076',\n",
       " 'sub-CC721374',\n",
       " 'sub-CC721224',\n",
       " 'sub-CC510434',\n",
       " 'sub-CC620451',\n",
       " 'sub-CC721392',\n",
       " 'sub-CC610594',\n",
       " 'sub-CC321504',\n",
       " 'sub-CC321544',\n",
       " 'sub-CC621080',\n",
       " 'sub-CC721888',\n",
       " 'sub-CC710429',\n",
       " 'sub-CC720685',\n",
       " 'sub-CC420241',\n",
       " 'sub-CC720358',\n",
       " 'sub-CC610568',\n",
       " 'sub-CC420180',\n",
       " 'sub-CC110411',\n",
       " 'sub-CC620935',\n",
       " 'sub-CC510237',\n",
       " 'sub-CC710551',\n",
       " 'sub-CC520552',\n",
       " 'sub-CC620567',\n",
       " 'sub-CC510415',\n",
       " 'sub-CC221107',\n",
       " 'sub-CC720330',\n",
       " 'sub-CC310256',\n",
       " 'sub-CC620026',\n",
       " 'sub-CC620406',\n",
       " 'sub-CC711128',\n",
       " 'sub-CC520127',\n",
       " 'sub-CC221886',\n",
       " 'sub-CC710858',\n",
       " 'sub-CC720329',\n",
       " 'sub-CC410179',\n",
       " 'sub-CC620193',\n",
       " 'sub-CC220519',\n",
       " 'sub-CC510304',\n",
       " 'sub-CC420888',\n",
       " 'sub-CC120264',\n",
       " 'sub-CC510395',\n",
       " 'sub-CC420589',\n",
       " 'sub-CC620152',\n",
       " 'sub-CC520053',\n",
       " 'sub-CC610178',\n",
       " 'sub-CC620444',\n",
       " 'sub-CC620557',\n",
       " 'sub-CC610210',\n",
       " 'sub-CC510480',\n",
       " 'sub-CC410177',\n",
       " 'sub-CC320553',\n",
       " 'sub-CC222956',\n",
       " 'sub-CC220535',\n",
       " 'sub-CC322186',\n",
       " 'sub-CC721704',\n",
       " 'sub-CC720407',\n",
       " 'sub-CC121685',\n",
       " 'sub-CC121111',\n",
       " 'sub-CC410094',\n",
       " 'sub-CC420582',\n",
       " 'sub-CC510609',\n",
       " 'sub-CC210422',\n",
       " 'sub-CC711244',\n",
       " 'sub-CC310252',\n",
       " 'sub-CC321331',\n",
       " 'sub-CC620572',\n",
       " 'sub-CC221002']"
      ]
     },
     "execution_count": 13,
     "metadata": {},
     "output_type": "execute_result"
    }
   ],
   "source": [
    "exSub"
   ]
  },
  {
   "cell_type": "code",
   "execution_count": 35,
   "metadata": {},
   "outputs": [
    {
     "name": "stderr",
     "output_type": "stream",
     "text": [
      "  0%|          | 0/643 [00:00<?, ?it/s]"
     ]
    },
    {
     "name": "stdout",
     "output_type": "stream",
     "text": [
      "sub-CC510648\n",
      "Using data from preloaded Raw for 16 events and 5000 original time points ...\n",
      "-5.927190477593014e-16\n"
     ]
    },
    {
     "name": "stderr",
     "output_type": "stream",
     "text": [
      "  0%|          | 1/643 [00:05<54:27,  5.09s/it]"
     ]
    },
    {
     "name": "stdout",
     "output_type": "stream",
     "text": [
      "sub-CC610671\n",
      "Using data from preloaded Raw for 65 events and 5000 original time points ...\n",
      "-4.969035206797873e-16\n"
     ]
    },
    {
     "name": "stderr",
     "output_type": "stream",
     "text": [
      "  0%|          | 2/643 [00:11<1:04:08,  6.00s/it]"
     ]
    },
    {
     "name": "stdout",
     "output_type": "stream",
     "text": [
      "sub-CC310135\n",
      "Using data from preloaded Raw for 77 events and 5000 original time points ...\n",
      "2.095102345424009e-16\n"
     ]
    },
    {
     "name": "stderr",
     "output_type": "stream",
     "text": [
      "  0%|          | 3/643 [00:19<1:11:29,  6.70s/it]"
     ]
    },
    {
     "name": "stdout",
     "output_type": "stream",
     "text": [
      "sub-CC610631\n",
      "Using data from preloaded Raw for 51 events and 5000 original time points ...\n",
      "-1.3750674161322021e-15\n"
     ]
    },
    {
     "name": "stderr",
     "output_type": "stream",
     "text": [
      "  1%|          | 4/643 [00:25<1:07:41,  6.36s/it]"
     ]
    },
    {
     "name": "stdout",
     "output_type": "stream",
     "text": [
      "sub-CC620919\n",
      "Using data from preloaded Raw for 0 events and 5000 original time points ...\n"
     ]
    },
    {
     "name": "stderr",
     "output_type": "stream",
     "text": [
      "  1%|          | 4/643 [00:28<1:16:34,  7.19s/it]"
     ]
    },
    {
     "name": "stdout",
     "output_type": "stream",
     "text": [
      "nan\n",
      "het\n"
     ]
    },
    {
     "name": "stderr",
     "output_type": "stream",
     "text": [
      "\n"
     ]
    }
   ],
   "source": [
    "for count, subjPath in enumerate(tqdm(dataPaths)):\n",
    "\n",
    "    subjId = subjPath.split(\"/\")[-1][:-4]\n",
    "    print(subjId)\n",
    "\n",
    "    # if subjId in exSub:\n",
    "\n",
    "    # read the data\n",
    "    data = mne.io.read_raw_fif(subjPath,\n",
    "                            preload=True,\n",
    "                            verbose=False).pick(picks=[\"meg\"])\n",
    "\n",
    "\n",
    "    data.notch_filter(powerNoise, n_jobs=-1, verbose=False)\n",
    "\n",
    "    segments = mne.make_fixed_length_epochs(data,\n",
    "                                            duration=10,\n",
    "                                            overlap=3,\n",
    "                                            verbose=False\n",
    "                                            )\n",
    "\n",
    "    # mag ==> grad\n",
    "    # segments.as_type(ch_type='grad', mode='fast')\n",
    "\n",
    "    # rejecting noisy epchs\n",
    "    segment2s = segments.copy().drop_bad(\n",
    "                    reject=rejectCriteria, \n",
    "                    # flat=flatCriteria, \n",
    "                    verbose=False,\n",
    "                    )\n",
    "    print(np.nanmean(segment2s.get_data()))\n",
    "    if isNan(np.nanmean(segment2s)): print(\"het\"); break"
   ]
  },
  {
   "cell_type": "code",
   "execution_count": 29,
   "metadata": {},
   "outputs": [
    {
     "data": {
      "text/plain": [
       "array([[-1.45402842e-26,  1.58756354e-12,  4.96648598e-12, ...,\n",
       "         1.92625651e-12,  9.56604377e-13,  0.00000000e+00],\n",
       "       [ 0.00000000e+00,  4.83193038e-12,  7.50880828e-12, ...,\n",
       "        -2.31785547e-12, -1.46965772e-12,  2.82727748e-27],\n",
       "       [ 7.44684695e-28,  3.89879878e-14,  5.36704187e-14, ...,\n",
       "        -2.30249018e-13, -1.30528662e-13,  2.52435490e-29],\n",
       "       ...,\n",
       "       [ 1.21169035e-27, -1.98149057e-12, -3.88375321e-12, ...,\n",
       "         1.01447592e-12,  7.30051328e-13, -2.22143231e-27],\n",
       "       [ 1.21169035e-27, -7.19926679e-13, -1.61552131e-12, ...,\n",
       "         3.95044460e-13,  6.27931568e-13,  1.61558713e-27],\n",
       "       [ 0.00000000e+00,  4.49493172e-14,  6.52696031e-14, ...,\n",
       "         1.70335213e-13,  1.03639477e-13, -3.53409686e-28]])"
      ]
     },
     "execution_count": 29,
     "metadata": {},
     "output_type": "execute_result"
    }
   ],
   "source": [
    "data.get_data()"
   ]
  },
  {
   "cell_type": "code",
   "execution_count": 50,
   "metadata": {},
   "outputs": [
    {
     "name": "stdout",
     "output_type": "stream",
     "text": [
      "Using data from preloaded Raw for 80 events and 5000 original time points ...\n"
     ]
    },
    {
     "data": {
      "text/plain": [
       "3.509063810373614e-11"
      ]
     },
     "execution_count": 50,
     "metadata": {},
     "output_type": "execute_result"
    }
   ],
   "source": [
    "np.ptp(segments.get_data()[1,1,:])"
   ]
  },
  {
   "cell_type": "code",
   "execution_count": 58,
   "metadata": {},
   "outputs": [
    {
     "name": "stdout",
     "output_type": "stream",
     "text": [
      "Using data from preloaded Raw for 80 events and 5000 original time points ...\n"
     ]
    },
    {
     "data": {
      "text/plain": [
       "array([[9.43913591e-11, 3.92424905e-11, 2.66231760e-12, ...,\n",
       "        6.16010937e-11, 6.81031527e-11, 2.55248955e-12],\n",
       "       [7.75767331e-11, 3.50906381e-11, 3.20424947e-12, ...,\n",
       "        6.29907680e-11, 6.55258981e-11, 2.97957847e-12],\n",
       "       [7.39161937e-11, 3.52624852e-11, 3.33536124e-12, ...,\n",
       "        6.65851061e-11, 6.65378899e-11, 2.77441364e-12],\n",
       "       ...,\n",
       "       [1.04617870e-10, 1.09660039e-10, 9.50538077e-12, ...,\n",
       "        1.00420603e-10, 8.39939024e-11, 5.71376769e-12],\n",
       "       [7.83285038e-11, 4.09987903e-11, 2.83649257e-12, ...,\n",
       "        7.79232594e-11, 7.23328837e-11, 2.88296946e-12],\n",
       "       [8.46519566e-11, 5.92472258e-11, 4.46587880e-12, ...,\n",
       "        6.02084324e-11, 6.28674634e-11, 2.64253657e-12]])"
      ]
     },
     "execution_count": 58,
     "metadata": {},
     "output_type": "execute_result"
    }
   ],
   "source": [
    "len(np.ptp(segments.get_data(), axis=-1))"
   ]
  },
  {
   "cell_type": "code",
   "execution_count": null,
   "metadata": {},
   "outputs": [],
   "source": []
  }
 ],
 "metadata": {
  "kernelspec": {
   "display_name": "mne",
   "language": "python",
   "name": "python3"
  },
  "language_info": {
   "codemirror_mode": {
    "name": "ipython",
    "version": 3
   },
   "file_extension": ".py",
   "mimetype": "text/x-python",
   "name": "python",
   "nbconvert_exporter": "python",
   "pygments_lexer": "ipython3",
   "version": "3.12.2"
  }
 },
 "nbformat": 4,
 "nbformat_minor": 2
}
