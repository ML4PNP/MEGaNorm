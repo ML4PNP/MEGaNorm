{
 "cells": [
  {
   "cell_type": "code",
   "execution_count": 1,
   "metadata": {},
   "outputs": [],
   "source": [
    "from utils.freesurfer import run_parallel_reconall, list_subject_ids\n",
    "from utils.freesurfer import check_log_for_success, rerun_failed_subs\n",
    "from utils.freesurfer import freesurfer_QC, prepare_mri_data"
   ]
  },
  {
   "cell_type": "code",
   "execution_count": 2,
   "metadata": {},
   "outputs": [],
   "source": [
    "### Paths \n",
    "\n",
    "processing_dir = '/home/meganorm-smkia/temp'\n",
    "freesurfer_path = '/project/meganorm/Software/freesurfer'\n",
    "mri_directory = '/project/meganorm/Data/BTNRH/raw_nii' \n",
    "##'/project/meganorm/Data/camcan/CamCAN/cc700/mri/pipeline/release004/BIDS_20190411/anat'\n",
    "results_directory = '/project/meganorm/Data/BTNRH/reconall'\n",
    "file_postfix = '.nii' # '_T1w.nii.gz' for CamCAN\n",
    "##'/project/meganorm/Data/camcan/CamCAN/cc700/mri/pipeline/release004/BIDS_20190411/derivatives'\n",
    "\n",
    "# only for boys town data\n",
    "prepare_mri_data(mri_directory)"
   ]
  },
  {
   "cell_type": "code",
   "execution_count": null,
   "metadata": {},
   "outputs": [],
   "source": [
    "### Running Freesurfer on T1 Anatomical data for source reconstruction\n",
    "\n",
    "subject_ids = run_parallel_reconall(mri_directory, results_directory, processing_dir, \n",
    "                                    freesurfer_path, file_postfix=file_postfix)"
   ]
  },
  {
   "cell_type": "code",
   "execution_count": 9,
   "metadata": {},
   "outputs": [],
   "source": [
    "## Re-running the failed recon-all jobs, Run this cell when all the jobs above are finished.\n",
    "subject_ids = list_subject_ids(results_directory)\n",
    "failed_jobs = check_log_for_success(results_directory, subject_ids)\n",
    "rerun_failed_subs(failed_jobs, mri_directory, results_directory, \n",
    "                    processing_dir, freesurfer_path, file_postfix=file_postfix)"
   ]
  },
  {
   "cell_type": "code",
   "execution_count": null,
   "metadata": {},
   "outputs": [],
   "source": [
    "# QC on freesurfer results\n",
    "\n",
    "qc_passed_samples, qc_failed_samples, missing_samples = freesurfer_QC(results_directory)"
   ]
  }
 ],
 "metadata": {
  "kernelspec": {
   "display_name": "base",
   "language": "python",
   "name": "python3"
  },
  "language_info": {
   "codemirror_mode": {
    "name": "ipython",
    "version": 3
   },
   "file_extension": ".py",
   "mimetype": "text/x-python",
   "name": "python",
   "nbconvert_exporter": "python",
   "pygments_lexer": "ipython3",
   "version": "3.12.2"
  }
 },
 "nbformat": 4,
 "nbformat_minor": 2
}
