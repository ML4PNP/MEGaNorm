{
 "cells": [
  {
   "cell_type": "code",
   "execution_count": null,
   "metadata": {},
   "outputs": [],
   "source": [
    "import os\n",
    "\n",
    "package_path = '/home/meganorm-smkia/Code/MEGaNorm/'\n",
    "os.chdir(package_path)\n",
    "\n",
    "from utils.parallel import submit_jobs, check_jobs_status, collect_results\n",
    "from datasets.camcan import load_camcan_data\n",
    "from utils.nm import hbr_data_split\n",
    "\n",
    "from utils.IO import mergeDataframes\n",
    "from src.summarizeFeatures import summarizeFeatures\n",
    "\n",
    "import pcntoolkit as ptk"
   ]
  },
  {
   "cell_type": "code",
   "execution_count": null,
   "metadata": {},
   "outputs": [],
   "source": [
    "### Paths and configs\n",
    "\n",
    "username = 'meganorm-smkia'\n",
    "\n",
    "data_path = '/project/meganorm/Data/camcan/CamCAN/cc700/meg/pipeline/release005/BIDSsep/derivatives_rest/aa/AA_movecomp_transdef/aamod_meg_maxfilt_00003/'\n",
    "target_dir = '/home/meganorm-smkia/Data/CamCAN/Features/'\n",
    "\n",
    "log_path = '/home/meganorm-smkia/temp/log/'\n",
    "temp_path = '/home/meganorm-smkia/temp/tmp/'\n",
    "\n",
    "batch_file = '/home/meganorm-smkia/Code/MEGaNorm/src/batch_job.sh'\n",
    "\n",
    "if not os.path.isdir(log_path):\n",
    "    os.makedirs(log_path)"
   ]
  },
  {
   "cell_type": "code",
   "execution_count": null,
   "metadata": {},
   "outputs": [],
   "source": [
    "### Parallel feature extraction\n",
    "\n",
    "subjects = os.listdir(data_path)\n",
    " \n",
    "# Running Jobs\n",
    "start_time = submit_jobs(batch_file, data_path, subjects, temp_path)\n",
    "# Checking jobs\n",
    "failed_job_names= check_jobs_status(username, start_time)\n",
    "\n",
    "while len(failed_job_names)>0:\n",
    "    # Re-running Jobs\n",
    "    start_time = submit_jobs(batch_file, data_path, failed_job_names, temp_path)\n",
    "    # Checking jobs\n",
    "    failed_job_names= check_jobs_status(username, start_time)\n",
    "\n",
    "collect_results(target_dir, subjects, temp_path, file_name='camcan_features')"
   ]
  },
  {
   "cell_type": "code",
   "execution_count": null,
   "metadata": {},
   "outputs": [],
   "source": [
    "# merge feature dataframes\n",
    "dergedDf = mergeDataframes(temp_path)\n",
    "# average features across the whole brain (as a summrization)\n",
    "summarizeFeatures(dergedDf)\n",
    "summarizeFeatures.to_csv(?) # TODO"
   ]
  },
  {
   "cell_type": "code",
   "execution_count": null,
   "metadata": {},
   "outputs": [],
   "source": [
    "### Data preparation for Normative Modeling\n",
    "\n",
    "processing_dir = '/home/meganorm-smkia/temp/tmp/'\n",
    "camcan_cov_path = '/project/meganorm/Data/camcan/CamCAN/cc700/participants.tsv'\n",
    "camcan_feature_path = '/home/meganorm-smkia/Data/CamCAN/Features/camcan_features.csv'\n",
    "\n",
    "camcan_data = load_camcan_data(camcan_feature_path, camcan_cov_path)\n",
    "\n",
    "hbr_data_split(camcan_data, processing_dir, drop_nans=True, batch_effects=['gender','site'])\n"
   ]
  },
  {
   "cell_type": "code",
   "execution_count": null,
   "metadata": {},
   "outputs": [],
   "source": [
    "### Setting up NM configs\n",
    "\n",
    "python_path = '/project/meganorm/Software/Miniconda3/envs/mne/bin/python' \n",
    "\n",
    "hbr_configs = {'hetero_SHASH_bspline':{'model_type':'bspline', 'likelihood':'SHASHb', 'linear_sigma':'True',\n",
    "                                   'random_slope_mu':'True', 'linear_epsilon':'True', 'linear_delta':'True'},\n",
    "            }\n",
    "\n",
    "inscaler='minmax' \n",
    "outscaler='minmax' \n",
    "batch_size = 1\n",
    "outputsuffix = '_estimate'\n",
    "\n",
    "respfile = processing_dir + 'y_train.pkl'\n",
    "covfile = processing_dir + 'x_train.pkl'\n",
    "\n",
    "testrespfile_path = processing_dir + 'y_test.pkl'\n",
    "testcovfile_path = processing_dir + 'x_test.pkl'\n",
    "\n",
    "trbefile = processing_dir + 'b_train.pkl'\n",
    "tsbefile = processing_dir + 'b_test.pkl'\n",
    "\n",
    "memory = '2gb'\n",
    "duration = '10:00:00'\n",
    "method = 'hetero_SHASH_bspline'\n",
    "cluster_spec = 'slurm'"
   ]
  },
  {
   "cell_type": "code",
   "execution_count": null,
   "metadata": {},
   "outputs": [],
   "source": [
    "### Running NM\n",
    "\n",
    "ptk.normative_parallel.execute_nm(processing_dir, python_path,\n",
    "               'Estimate_', covfile, respfile, batch_size, memory, duration, alg='hbr', \n",
    "               log_path=log_path, binary=True, testcovfile_path=testcovfile_path, \n",
    "               testrespfile_path=testrespfile_path,trbefile=trbefile, tsbefile=tsbefile, \n",
    "               model_type=hbr_configs[method]['model_type'], likelihood=hbr_configs[method]['likelihood'],  \n",
    "               linear_sigma=hbr_configs[method]['linear_sigma'], random_slope_mu=hbr_configs[method]['random_slope_mu'],\n",
    "               linear_epsilon=hbr_configs[method]['linear_epsilon'], linear_delta=hbr_configs[method]['linear_delta'], \n",
    "               savemodel='True', inscaler=inscaler, outscaler=outscaler, outputsuffix=outputsuffix, \n",
    "               interactive='auto', cluster_spec=cluster_spec)"
   ]
  }
 ],
 "metadata": {
  "kernelspec": {
   "display_name": "pcntoolkit",
   "language": "python",
   "name": "python3"
  },
  "language_info": {
   "codemirror_mode": {
    "name": "ipython",
    "version": 3
   },
   "file_extension": ".py",
   "mimetype": "text/x-python",
   "name": "python",
   "nbconvert_exporter": "python",
   "pygments_lexer": "ipython3",
   "version": "3.12.2"
  }
 },
 "nbformat": 4,
 "nbformat_minor": 2
}
