{
 "cells": [
  {
   "cell_type": "code",
   "execution_count": null,
   "metadata": {},
   "outputs": [],
   "source": [
    "import os\n",
    "\n",
    "package_path = '/home/meganorm-smkia/Code/MEGaNorm/'\n",
    "os.chdir(package_path)\n",
    "\n",
    "from utils.parallel import submit_jobs, check_jobs_status, collect_results\n"
   ]
  },
  {
   "cell_type": "code",
   "execution_count": null,
   "metadata": {},
   "outputs": [],
   "source": [
    "### Paths and configs\n",
    "\n",
    "username = 'meganorm-smkia'\n",
    "\n",
    "data_path = '/project/meganorm/Data/camcan/CamCAN/cc700/meg/pipeline/release005/BIDSsep/derivatives_rest/aa/AA_movecomp_transdef/aamod_meg_maxfilt_00003/'\n",
    "target_dir = '/home/meganorm-smkia/Data/CamCAN/Features/'\n",
    "\n",
    "log_path = '/home/meganorm-smkia/temp/log/'\n",
    "temp_path = '/home/meganorm-smkia/temp/tmp/'\n",
    "\n",
    "batch_file = '/home/meganorm-smkia/Code/MEGaNorm/src/batch_job.sh'\n",
    "\n",
    "if not os.path.isdir(log_path):\n",
    "    os.makedirs(log_path)"
   ]
  },
  {
   "cell_type": "code",
   "execution_count": null,
   "metadata": {},
   "outputs": [],
   "source": [
    "subjects = os.listdir(data_path)\n",
    " \n",
    "# Running Jobs\n",
    "start_time = submit_jobs(batch_file, data_path, subjects, temp_path)\n",
    "# Checking jobs\n",
    "failed_job_names= check_jobs_status(username, start_time)\n",
    "\n",
    "while len(failed_job_names)>0:\n",
    "    # Re-running Jobs\n",
    "    start_time = submit_jobs(batch_file, data_path, failed_job_names, temp_path)\n",
    "    # Checking jobs\n",
    "    failed_job_names= check_jobs_status(username, start_time)\n",
    "\n",
    "collect_results(target_dir, subjects, temp_path, file_name='features')"
   ]
  }
 ],
 "metadata": {
  "kernelspec": {
   "display_name": "pcntoolkit",
   "language": "python",
   "name": "python3"
  },
  "language_info": {
   "codemirror_mode": {
    "name": "ipython",
    "version": 3
   },
   "file_extension": ".py",
   "mimetype": "text/x-python",
   "name": "python",
   "nbconvert_exporter": "python",
   "pygments_lexer": "ipython3",
   "version": "3.12.2"
  }
 },
 "nbformat": 4,
 "nbformat_minor": 2
}
