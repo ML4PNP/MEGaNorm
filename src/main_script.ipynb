{
 "cells": [
  {
   "cell_type": "code",
   "execution_count": null,
   "metadata": {},
   "outputs": [],
   "source": [
    "import os"
   ]
  },
  {
   "cell_type": "code",
   "execution_count": null,
   "metadata": {},
   "outputs": [],
   "source": [
    "### Configs\n",
    "\n",
    "username = 'meganorm-smkia'\n",
    "package_path = '/home/meganorm-smkia/Code/MEGaNorm/'\n",
    "log_path = '/home/meganorm-smkia/temp/log/'\n",
    "temp_path = '/home/meganorm-smkia/temp/tmp/'\n",
    "\n",
    "data_path = '/project/meganorm/Data/camcan/CamCAN/cc700/meg/pipeline/release005/BIDSsep/derivatives_rest/aa/AA_movecomp_transdef/aamod_meg_maxfilt_00003/'\n",
    "target_dir = '/home/meganorm-smkia/Data/CamCAN/Features/'\n",
    "\n",
    "os.chdir(package_path)\n",
    "from utils.parallel import submit_jobs, check_jobs_status, collect_results\n",
    "\n",
    "if not os.path.isdir(temp_path):\n",
    "    os.makedirs(temp_path)\n",
    "if not os.path.isdir(log_path):\n",
    "    os.makedirs(log_path)\n",
    "if not os.path.isdir(target_dir):\n",
    "    os.makedirs(target_dir)"
   ]
  },
  {
   "cell_type": "code",
   "execution_count": null,
   "metadata": {},
   "outputs": [],
   "source": [
    "\n",
    "subjects = os.listdir(data_path)\n",
    " \n",
    "# Running Jobs\n",
    "start_time = submit_jobs(data_path, subjects, temp_path)\n",
    "# Checking jobs\n",
    "failed_job_names= check_jobs_status(username, start_time)\n",
    "\n",
    "while len(failed_job_names)>0:\n",
    "    # Re-running Jobs\n",
    "    start_time = submit_jobs(data_path, failed_job_names, temp_path)\n",
    "    # Checking jobs\n",
    "    failed_job_names= check_jobs_status(username, start_time)\n",
    "\n",
    "collect_results(target_dir, subjects, temp_path, file_name='features')"
   ]
  }
 ],
 "metadata": {
  "kernelspec": {
   "display_name": "pcntoolkit",
   "language": "python",
   "name": "python3"
  },
  "language_info": {
   "codemirror_mode": {
    "name": "ipython",
    "version": 3
   },
   "file_extension": ".py",
   "mimetype": "text/x-python",
   "name": "python",
   "nbconvert_exporter": "python",
   "pygments_lexer": "ipython3",
   "version": "3.12.2"
  }
 },
 "nbformat": 4,
 "nbformat_minor": 2
}
