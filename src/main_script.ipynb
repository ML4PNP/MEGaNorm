{
 "cells": [
  {
   "cell_type": "code",
   "execution_count": null,
   "metadata": {},
   "outputs": [],
   "source": [
    "import os\n",
    "import subprocess\n",
    "from datetime import datetime"
   ]
  },
  {
   "cell_type": "code",
   "execution_count": null,
   "metadata": {},
   "outputs": [],
   "source": [
    "### Configs\n",
    "\n",
    "username = 'meganorm-smkia'\n",
    "package_path = '/home/meganorm-smkia/Code/MEGaNorm/'\n",
    "\n",
    "data_path = '/project/meganorm/Data/camcan/CamCAN/cc700/meg/pipeline/release005/BIDSsep/derivatives_rest/aa/AA_movecomp_transdef/aamod_meg_maxfilt_00003/'\n",
    "target_dir = '/home/meganorm-smkia/Data/CamCAN/Features/'\n",
    "\n",
    "os.chdir(package_path)\n",
    "from utils.parallel import check_user_jobs"
   ]
  },
  {
   "cell_type": "code",
   "execution_count": null,
   "metadata": {},
   "outputs": [],
   "source": [
    "### Runnig Jobs\n",
    "\n",
    "subjects = os.listdir(data_path)\n",
    "\n",
    "start_time = datetime.now().strftime(\"%Y-%m-%dT%H:%M:%S\")\n",
    "\n",
    "for subject in subjects:\n",
    "    fname = os.path.join(data_path, subject, 'mf2pt2_' + subject + '_ses-rest_task-rest_megtransdef.fif')\n",
    "    if os.path.isfile(fname):\n",
    "        subprocess.check_call(\"sbatch --job-name=%s ./src/batch_job.sh %s %s\" % (subject, fname, target_dir), shell=True)\n",
    "    else:\n",
    "        print('File does not exist!')\n"
   ]
  },
  {
   "cell_type": "code",
   "execution_count": null,
   "metadata": {},
   "outputs": [],
   "source": [
    "### Checking job status\n",
    "job_counts, failed_job_names = check_user_jobs(username, start_time)\n",
    "if job_counts:\n",
    "    print(f\"Status for user {username} from {start_time}: {job_counts}\")\n",
    "    if failed_job_names:\n",
    "        print(\"Failed Jobs:\", ', '.join(failed_job_names))\n",
    "else:\n",
    "    print(\"No job data available.\")"
   ]
  }
 ],
 "metadata": {
  "kernelspec": {
   "display_name": "pcntoolkit",
   "language": "python",
   "name": "python3"
  },
  "language_info": {
   "codemirror_mode": {
    "name": "ipython",
    "version": 3
   },
   "file_extension": ".py",
   "mimetype": "text/x-python",
   "name": "python",
   "nbconvert_exporter": "python",
   "pygments_lexer": "ipython3",
   "version": "3.12.2"
  }
 },
 "nbformat": 4,
 "nbformat_minor": 2
}
